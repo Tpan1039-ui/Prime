{
 "cells": [
  {
   "cell_type": "markdown",
   "metadata": {},
   "source": [
    "# TOPT prediction with Prime\n",
    "\n",
    "This tutorial demonstrates how to predict the OGT of a protein using a pretrained model from the Prime model.\n",
    "\n",
    "We provide:\n",
    "\n",
    "- The sequences, a FASTA file.\n",
    "\n",
    "Goals\n",
    "Obtain an predicted TOPT for each sequence.\n"
   ]
  },
  {
   "cell_type": "markdown",
   "metadata": {},
   "source": [
    "## Import the necessary libraries and modules."
   ]
  },
  {
   "cell_type": "code",
   "execution_count": 11,
   "metadata": {},
   "outputs": [],
   "source": [
    "from transformers import AutoTokenizer, AutoModel\n",
    "import torch\n",
    "import pandas as pd\n",
    "from Bio import SeqIO\n",
    "from tqdm.notebook import tqdm"
   ]
  },
  {
   "cell_type": "markdown",
   "metadata": {},
   "source": [
    "## Prepare data path"
   ]
  },
  {
   "cell_type": "code",
   "execution_count": 12,
   "metadata": {},
   "outputs": [],
   "source": [
    "sequence_file = \"example.fasta\""
   ]
  },
  {
   "cell_type": "markdown",
   "metadata": {},
   "source": [
    "## Load model and Tokenizer"
   ]
  },
  {
   "cell_type": "code",
   "execution_count": 15,
   "metadata": {},
   "outputs": [],
   "source": [
    "model_path = \"AI4Protein/Prime_690M\"\n",
    "device = torch.device(\"cuda\" if torch.cuda.is_available() else \"cpu\")\n",
    "model = AutoModel.from_pretrained(model_path, trust_remote_code=True)\n",
    "tokenizer = AutoTokenizer.from_pretrained(model_path, trust_remote_code=True)\n",
    "model.eval()\n",
    "model = model.to(device)"
   ]
  },
  {
   "cell_type": "markdown",
   "metadata": {},
   "source": [
    "## Prediction"
   ]
  },
  {
   "cell_type": "code",
   "execution_count": 17,
   "metadata": {},
   "outputs": [
    {
     "data": {
      "application/vnd.jupyter.widget-view+json": {
       "model_id": "0b66d5c04b444891bec50da22c440ae8",
       "version_major": 2,
       "version_minor": 0
      },
      "text/plain": [
       "  0%|          | 0/14 [00:00<?, ?it/s]"
      ]
     },
     "metadata": {},
     "output_type": "display_data"
    }
   ],
   "source": [
    "togt = []\n",
    "with torch.no_grad():\n",
    "    for record in tqdm(list(SeqIO.parse(sequence_file, \"fasta\"))):\n",
    "        sequence = str(record.seq)\n",
    "        tokenied_results = tokenizer(sequence, return_tensors=\"pt\")\n",
    "        input_ids = tokenied_results.input_ids.to(device)\n",
    "        attention_mask = tokenied_results.attention_mask.to(device)\n",
    "        logits = model(input_ids=input_ids, attention_mask=attention_mask).predicted_values\n",
    "        togt.append(logits.item())"
   ]
  },
  {
   "cell_type": "code",
   "execution_count": 18,
   "metadata": {},
   "outputs": [
    {
     "data": {
      "text/plain": [
       "[29.42494010925293,\n",
       " 30.343338012695312,\n",
       " 25.358503341674805,\n",
       " 28.9854736328125,\n",
       " 25.786643981933594,\n",
       " 25.800437927246094,\n",
       " 25.850440979003906,\n",
       " 28.526737213134766,\n",
       " 30.309772491455078,\n",
       " 22.676509857177734,\n",
       " 23.928354263305664,\n",
       " 25.09626007080078,\n",
       " 21.36566162109375,\n",
       " 27.3638973236084]"
      ]
     },
     "execution_count": 18,
     "metadata": {},
     "output_type": "execute_result"
    }
   ],
   "source": [
    "togt"
   ]
  },
  {
   "cell_type": "code",
   "execution_count": null,
   "metadata": {},
   "outputs": [],
   "source": []
  }
 ],
 "metadata": {
  "kernelspec": {
   "display_name": "torch2",
   "language": "python",
   "name": "python3"
  },
  "language_info": {
   "codemirror_mode": {
    "name": "ipython",
    "version": 3
   },
   "file_extension": ".py",
   "mimetype": "text/x-python",
   "name": "python",
   "nbconvert_exporter": "python",
   "pygments_lexer": "ipython3",
   "version": "3.10.14"
  }
 },
 "nbformat": 4,
 "nbformat_minor": 2
}
