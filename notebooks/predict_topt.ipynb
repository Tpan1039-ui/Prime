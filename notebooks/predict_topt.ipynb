{
 "cells": [
  {
   "cell_type": "markdown",
   "metadata": {},
   "source": [
    "# Supervised Topt prediction with Prime\n",
    "\n",
    "This tutorial demonstrates how to predict the Topt of a protein using a pretrained model from the Prime model.\n",
    "\n",
    "We provide:\n",
    "\n",
    "- The sequences, a FASTA file.\n",
    "\n",
    "Goals\n",
    "Obtain an predicted Topt for each sequence.\n"
   ]
  },
  {
   "cell_type": "markdown",
   "metadata": {},
   "source": [
    "## Config for imports"
   ]
  },
  {
   "cell_type": "code",
   "execution_count": 2,
   "metadata": {},
   "outputs": [],
   "source": [
    "import sys\n",
    "sys.path.append('..')"
   ]
  },
  {
   "cell_type": "markdown",
   "metadata": {},
   "source": [
    "## Import the necessary libraries and modules."
   ]
  },
  {
   "cell_type": "code",
   "execution_count": 3,
   "metadata": {},
   "outputs": [],
   "source": [
    "from prime.model import SupervisedRegression, Config\n",
    "import torch\n",
    "import pandas as pd\n",
    "from Bio import SeqIO\n",
    "from tqdm.notebook import tqdm"
   ]
  },
  {
   "cell_type": "markdown",
   "metadata": {},
   "source": [
    "## Prepare data path"
   ]
  },
  {
   "cell_type": "code",
   "execution_count": 4,
   "metadata": {},
   "outputs": [],
   "source": [
    "sequence_file = \"example.fasta\""
   ]
  },
  {
   "cell_type": "markdown",
   "metadata": {},
   "source": [
    "## Load model"
   ]
  },
  {
   "cell_type": "code",
   "execution_count": 5,
   "metadata": {},
   "outputs": [],
   "source": [
    "model_path = \"../checkpoints/prime_topt.pt\"\n",
    "device = torch.device(\"cuda\" if torch.cuda.is_available() else \"cpu\")\n",
    "model = SupervisedRegression(Config())\n",
    "model.load_state_dict(torch.load(model_path))\n",
    "model.eval()\n",
    "model = model.to(device)"
   ]
  },
  {
   "cell_type": "markdown",
   "metadata": {},
   "source": [
    "## Prediction"
   ]
  },
  {
   "cell_type": "code",
   "execution_count": 7,
   "metadata": {},
   "outputs": [
    {
     "data": {
      "application/vnd.jupyter.widget-view+json": {
       "model_id": "55424dfc1b48432a864426d64c6a68f5",
       "version_major": 2,
       "version_minor": 0
      },
      "text/plain": [
       "  0%|          | 0/14 [00:00<?, ?it/s]"
      ]
     },
     "metadata": {},
     "output_type": "display_data"
    }
   ],
   "source": [
    "topt = []\n",
    "with torch.no_grad():\n",
    "    for record in tqdm(list(SeqIO.parse(sequence_file, \"fasta\"))):\n",
    "        sequence = str(record.seq)\n",
    "        sequence_ids = model.tokenize(sequence).to(device)\n",
    "        attention_mask = torch.ones_like(sequence_ids).to(device)\n",
    "        logits = model(input_ids=sequence_ids, attention_mask=attention_mask)[0]\n",
    "        topt.append(logits.item())"
   ]
  },
  {
   "cell_type": "code",
   "execution_count": 8,
   "metadata": {},
   "outputs": [
    {
     "data": {
      "text/plain": [
       "[40.687538146972656,\n",
       " 43.96522521972656,\n",
       " 43.535552978515625,\n",
       " 37.044471740722656,\n",
       " 39.86117172241211,\n",
       " 58.468631744384766,\n",
       " 50.20270538330078,\n",
       " 34.72401428222656,\n",
       " 54.70647048950195,\n",
       " 37.22149658203125,\n",
       " 36.48097610473633,\n",
       " 42.725868225097656,\n",
       " 32.847328186035156,\n",
       " 37.01423645019531]"
      ]
     },
     "execution_count": 8,
     "metadata": {},
     "output_type": "execute_result"
    }
   ],
   "source": [
    "topt"
   ]
  },
  {
   "cell_type": "code",
   "execution_count": null,
   "metadata": {},
   "outputs": [],
   "source": []
  }
 ],
 "metadata": {
  "kernelspec": {
   "display_name": "torch2",
   "language": "python",
   "name": "python3"
  },
  "language_info": {
   "codemirror_mode": {
    "name": "ipython",
    "version": 3
   },
   "file_extension": ".py",
   "mimetype": "text/x-python",
   "name": "python",
   "nbconvert_exporter": "python",
   "pygments_lexer": "ipython3",
   "version": "3.10.13"
  }
 },
 "nbformat": 4,
 "nbformat_minor": 2
}
