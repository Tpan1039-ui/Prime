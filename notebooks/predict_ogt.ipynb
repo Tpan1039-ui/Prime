{
 "cells": [
  {
   "cell_type": "markdown",
   "metadata": {},
   "source": [
    "# Supervised OGT prediction with Prime\n",
    "\n",
    "This tutorial demonstrates how to predict the OGT of a protein using a pretrained model from the Prime model.\n",
    "\n",
    "We provide:\n",
    "\n",
    "- The sequences, a FASTA file.\n",
    "\n",
    "Goals\n",
    "Obtain an predicted OGT for each sequence.\n"
   ]
  },
  {
   "cell_type": "markdown",
   "metadata": {},
   "source": [
    "## Config for imports"
   ]
  },
  {
   "cell_type": "code",
   "execution_count": 9,
   "metadata": {},
   "outputs": [],
   "source": [
    "import sys\n",
    "sys.path.append('..')"
   ]
  },
  {
   "cell_type": "markdown",
   "metadata": {},
   "source": [
    "## Import the necessary libraries and modules."
   ]
  },
  {
   "cell_type": "code",
   "execution_count": 10,
   "metadata": {},
   "outputs": [],
   "source": [
    "from prime.model import SupervisedRegression, Config\n",
    "import torch\n",
    "import pandas as pd\n",
    "from Bio import SeqIO\n",
    "from tqdm.notebook import tqdm"
   ]
  },
  {
   "cell_type": "markdown",
   "metadata": {},
   "source": [
    "## Prepare data path"
   ]
  },
  {
   "cell_type": "code",
   "execution_count": 11,
   "metadata": {},
   "outputs": [],
   "source": [
    "sequence_file = \"example.fasta\""
   ]
  },
  {
   "cell_type": "markdown",
   "metadata": {},
   "source": [
    "## Load model"
   ]
  },
  {
   "cell_type": "code",
   "execution_count": 13,
   "metadata": {},
   "outputs": [],
   "source": [
    "model_path = \"../checkpoints/prime_ogt.pt\"\n",
    "device = torch.device(\"cuda\" if torch.cuda.is_available() else \"cpu\")\n",
    "model = SupervisedRegression(Config())\n",
    "model.load_state_dict(torch.load(model_path))\n",
    "model.eval()\n",
    "model = model.to(device)"
   ]
  },
  {
   "cell_type": "markdown",
   "metadata": {},
   "source": [
    "## Prediction"
   ]
  },
  {
   "cell_type": "code",
   "execution_count": 15,
   "metadata": {},
   "outputs": [
    {
     "data": {
      "application/vnd.jupyter.widget-view+json": {
       "model_id": "5afe076e84bf42f7ad4e2200ac5b9205",
       "version_major": 2,
       "version_minor": 0
      },
      "text/plain": [
       "  0%|          | 0/14 [00:00<?, ?it/s]"
      ]
     },
     "metadata": {},
     "output_type": "display_data"
    }
   ],
   "source": [
    "togt = []\n",
    "with torch.no_grad():\n",
    "    for record in tqdm(list(SeqIO.parse(sequence_file, \"fasta\"))):\n",
    "        sequence = str(record.seq)\n",
    "        sequence_ids = model.tokenize(sequence).to(device)\n",
    "        attention_mask = torch.ones_like(sequence_ids).to(device)\n",
    "        logits = model(input_ids=sequence_ids, attention_mask=attention_mask)[0]\n",
    "        togt.append(logits.item())"
   ]
  },
  {
   "cell_type": "code",
   "execution_count": 16,
   "metadata": {},
   "outputs": [
    {
     "data": {
      "text/plain": [
       "[26.19342803955078,\n",
       " 26.880943298339844,\n",
       " 21.495868682861328,\n",
       " 28.51004409790039,\n",
       " 22.163387298583984,\n",
       " 31.906055450439453,\n",
       " 26.732147216796875,\n",
       " 26.881406784057617,\n",
       " 34.62818908691406,\n",
       " 27.475366592407227,\n",
       " 24.651473999023438,\n",
       " 23.612808227539062,\n",
       " 24.937366485595703,\n",
       " 26.754934310913086]"
      ]
     },
     "execution_count": 16,
     "metadata": {},
     "output_type": "execute_result"
    }
   ],
   "source": [
    "togt"
   ]
  },
  {
   "cell_type": "code",
   "execution_count": null,
   "metadata": {},
   "outputs": [],
   "source": []
  }
 ],
 "metadata": {
  "kernelspec": {
   "display_name": "torch2",
   "language": "python",
   "name": "python3"
  },
  "language_info": {
   "codemirror_mode": {
    "name": "ipython",
    "version": 3
   },
   "file_extension": ".py",
   "mimetype": "text/x-python",
   "name": "python",
   "nbconvert_exporter": "python",
   "pygments_lexer": "ipython3",
   "version": "3.10.13"
  }
 },
 "nbformat": 4,
 "nbformat_minor": 2
}
